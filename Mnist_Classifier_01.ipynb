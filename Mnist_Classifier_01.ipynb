{
  "nbformat": 4,
  "nbformat_minor": 0,
  "metadata": {
    "colab": {
      "provenance": [],
      "authorship_tag": "ABX9TyODMW7vwqa0pKQbdZwevRBZ",
      "include_colab_link": true
    },
    "kernelspec": {
      "name": "python3",
      "display_name": "Python 3"
    },
    "language_info": {
      "name": "python"
    }
  },
  "cells": [
    {
      "cell_type": "markdown",
      "metadata": {
        "id": "view-in-github",
        "colab_type": "text"
      },
      "source": [
        "<a href=\"https://colab.research.google.com/github/flaxoDS/CompletelyNew/blob/master/Mnist_Classifier_01.ipynb\" target=\"_parent\"><img src=\"https://colab.research.google.com/assets/colab-badge.svg\" alt=\"Open In Colab\"/></a>"
      ]
    },
    {
      "cell_type": "code",
      "execution_count": 2,
      "metadata": {
        "id": "HBWSXPOyJ9IA"
      },
      "outputs": [],
      "source": [
        "import torch"
      ]
    },
    {
      "cell_type": "code",
      "source": [
        "images = torch.randn(16, 3, 32, 32)\n",
        "print(\"Shape\", images.shape)"
      ],
      "metadata": {
        "colab": {
          "base_uri": "https://localhost:8080/"
        },
        "id": "Fee7KWWkKBWa",
        "outputId": "9a0cd7e3-8332-4e22-a3e7-2e936271e938"
      },
      "execution_count": 3,
      "outputs": [
        {
          "output_type": "stream",
          "name": "stdout",
          "text": [
            "Shape torch.Size([16, 3, 32, 32])\n"
          ]
        }
      ]
    },
    {
      "cell_type": "code",
      "source": [
        "bild = images[0]\n",
        "bild_umgeformt = bild.permute(1, 2, 0)\n",
        "print(bild_umgeformt.shape)"
      ],
      "metadata": {
        "colab": {
          "base_uri": "https://localhost:8080/"
        },
        "id": "mIBMgAL4Kdk4",
        "outputId": "761767d8-c9e7-4386-d54c-56f9af01fe4b"
      },
      "execution_count": 4,
      "outputs": [
        {
          "output_type": "stream",
          "name": "stdout",
          "text": [
            "torch.Size([32, 32, 3])\n"
          ]
        }
      ]
    },
    {
      "cell_type": "code",
      "source": [
        "images_reshaped= images.view(images.shape[0], -1)"
      ],
      "metadata": {
        "id": "ydIaA-9iLHjJ"
      },
      "execution_count": 5,
      "outputs": []
    },
    {
      "cell_type": "code",
      "source": [
        "im2 = images[1]\n",
        "im1red = images[0][0]\n",
        "im2greenmiddlerow = images[1][1][15]\n"
      ],
      "metadata": {
        "id": "zWH3cBB1LFCA"
      },
      "execution_count": 6,
      "outputs": []
    },
    {
      "cell_type": "code",
      "source": [
        "import matplotlib.pyplot as plt\n"
      ],
      "metadata": {
        "id": "SwtF2W8BMxuV"
      },
      "execution_count": 7,
      "outputs": []
    },
    {
      "cell_type": "code",
      "source": [
        "plt.imshow(bild_umgeformt)"
      ],
      "metadata": {
        "colab": {
          "base_uri": "https://localhost:8080/",
          "height": 465
        },
        "id": "EwH8bhZfOAxk",
        "outputId": "69b946b1-8375-45ab-d7fd-ec660575f58c"
      },
      "execution_count": 8,
      "outputs": [
        {
          "output_type": "stream",
          "name": "stderr",
          "text": [
            "WARNING:matplotlib.image:Clipping input data to the valid range for imshow with RGB data ([0..1] for floats or [0..255] for integers). Got range [-3.2114086..3.8016288].\n"
          ]
        },
        {
          "output_type": "execute_result",
          "data": {
            "text/plain": [
              "<matplotlib.image.AxesImage at 0x7a6e432ba610>"
            ]
          },
          "metadata": {},
          "execution_count": 8
        },
        {
          "output_type": "display_data",
          "data": {
            "text/plain": [
              "<Figure size 640x480 with 1 Axes>"
            ],
            "image/png": "[encoded data removed]"
          },
          "metadata": {}
        }
      ]
    },
    {
      "cell_type": "code",
      "source": [
        "from torchvision import datasets, transforms"
      ],
      "metadata": {
        "id": "aSsOYCXWOPUJ"
      },
      "execution_count": 9,
      "outputs": []
    },
    {
      "cell_type": "code",
      "source": [
        "transform = transforms.ToTensor()\n",
        "\n",
        "mnist_train = datasets.MNIST(root=\"./data\", train=True, download=True, transform=transform)\n",
        "\n",
        "bild, label = mnist_train[0]\n",
        "print(\"Shape:\", bild.shape)\n",
        "print(\"Label:\", label)"
      ],
      "metadata": {
        "colab": {
          "base_uri": "https://localhost:8080/"
        },
        "id": "np-1VLniPn7U",
        "outputId": "e83f407e-22a5-463c-a1a7-d278fe7945bf"
      },
      "execution_count": 10,
      "outputs": [
        {
          "output_type": "stream",
          "name": "stderr",
          "text": [
            "100%|██████████| 9.91M/9.91M [00:00<00:00, 58.7MB/s]\n",
            "100%|██████████| 28.9k/28.9k [00:00<00:00, 1.65MB/s]\n",
            "100%|██████████| 1.65M/1.65M [00:00<00:00, 14.8MB/s]\n",
            "100%|██████████| 4.54k/4.54k [00:00<00:00, 5.43MB/s]"
          ]
        },
        {
          "output_type": "stream",
          "name": "stdout",
          "text": [
            "Shape: torch.Size([1, 28, 28])\n",
            "Label: 5\n"
          ]
        },
        {
          "output_type": "stream",
          "name": "stderr",
          "text": [
            "\n"
          ]
        }
      ]
    },
    {
      "cell_type": "code",
      "source": [
        "import random\n",
        "anzahl = 5\n",
        "\n",
        "for i in range(anzahl):\n",
        "  index = random.randint(0, len(mnist_train) - 1)\n",
        "  bild, label = mnist_train[index]\n",
        "\n",
        "  plt.subplot(1, anzahl, i+1)\n",
        "  plt.imshow(bild.squeeze(), cmap=\"gray\")\n",
        "  plt.title(f\"Label: {label}\")\n",
        "  plt.axis(\"off\")\n",
        "plt.tight_layout()\n",
        "plt.show()"
      ],
      "metadata": {
        "colab": {
          "base_uri": "https://localhost:8080/",
          "height": 169
        },
        "id": "Yyb7No4LQrsD",
        "outputId": "4276085a-59cc-4e2e-ab48-2a505cefcbab"
      },
      "execution_count": 11,
      "outputs": [
        {
          "output_type": "display_data",
          "data": {
            "text/plain": [
              "<Figure size 640x480 with 5 Axes>"
            ],
            "image/png": "[encoded data removed]"
          },
          "metadata": {}
        }
      ]
    },
    {
      "cell_type": "code",
      "source": [
        "bild, _ = mnist_train[0]\n",
        "bild2d = bild.squeeze()\n",
        "print(\"Nach squeeze:\", bild2d.shape)\n",
        "\n",
        "bild_original = bild2d.unsqueeze(0)\n",
        "print(\"Nach unsqueeze:\", bild_original.shape)\n",
        "\n",
        "\n"
      ],
      "metadata": {
        "colab": {
          "base_uri": "https://localhost:8080/"
        },
        "id": "vcdj6wKnTo9g",
        "outputId": "58cf5fd7-cbac-421b-eb6d-fbc1cadb122a"
      },
      "execution_count": 12,
      "outputs": [
        {
          "output_type": "stream",
          "name": "stdout",
          "text": [
            "Nach squeeze: torch.Size([28, 28])\n",
            "Nach unsqueeze: torch.Size([1, 28, 28])\n"
          ]
        }
      ]
    },
    {
      "cell_type": "code",
      "source": [
        "a = torch.tensor([1, 2])\n",
        "b = torch.tensor([3, 4])\n",
        "c = torch.tensor([5, 6])\n",
        "\n",
        "gestapelt = torch.stack([a, b, c])\n",
        "print(\"Stacked:\", gestapelt)\n",
        "print(\"Shape:\", gestapelt.shape)"
      ],
      "metadata": {
        "colab": {
          "base_uri": "https://localhost:8080/"
        },
        "id": "1zQRSeqMXM0U",
        "outputId": "08910bb6-c0b3-4863-892d-7c532375058a"
      },
      "execution_count": 13,
      "outputs": [
        {
          "output_type": "stream",
          "name": "stdout",
          "text": [
            "Stacked: tensor([[1, 2],\n",
            "        [3, 4],\n",
            "        [5, 6]])\n",
            "Shape: torch.Size([3, 2])\n"
          ]
        }
      ]
    },
    {
      "cell_type": "code",
      "source": [
        "x = torch.randn(2, 3)\n",
        "\n",
        "y = torch.randn(2, 3)\n",
        "\n",
        "concat_zeilen = torch.cat([x, y], dim=0)\n",
        "concat_spalten = torch.cat([x, y], dim = 1)\n",
        "\n",
        "print(\"concat dim=0 (Zeilen):\", concat_zeilen.shape)\n",
        "print(\"Concat dim=1 (Spalten):\", concat_spalten.shape)"
      ],
      "metadata": {
        "colab": {
          "base_uri": "https://localhost:8080/"
        },
        "id": "3rtlAwdwYG-g",
        "outputId": "3b4d225a-0d52-412a-fe95-943dd9cfd2c8"
      },
      "execution_count": 14,
      "outputs": [
        {
          "output_type": "stream",
          "name": "stdout",
          "text": [
            "concat dim=0 (Zeilen): torch.Size([4, 3])\n",
            "Concat dim=1 (Spalten): torch.Size([2, 6])\n"
          ]
        }
      ]
    },
    {
      "cell_type": "code",
      "source": [
        "x = torch.ones(3, 4)\n",
        "row = torch.arange(4).float()\n",
        "\n",
        "y = x + row\n",
        "\n",
        "print(\"x Shape:\", x.shape)\n",
        "print(\"row Shape:\", row.shape)\n",
        "print(\"Ergebnis:\\n\", y)"
      ],
      "metadata": {
        "colab": {
          "base_uri": "https://localhost:8080/"
        },
        "id": "L8rOG-0CY6P5",
        "outputId": "79984a4c-a85a-454e-af8d-5c842960e421"
      },
      "execution_count": 15,
      "outputs": [
        {
          "output_type": "stream",
          "name": "stdout",
          "text": [
            "x Shape: torch.Size([3, 4])\n",
            "row Shape: torch.Size([4])\n",
            "Ergebnis:\n",
            " tensor([[1., 2., 3., 4.],\n",
            "        [1., 2., 3., 4.],\n",
            "        [1., 2., 3., 4.]])\n"
          ]
        }
      ]
    },
    {
      "cell_type": "code",
      "source": [
        "A = torch.randn(5, 2, 3)  # 5 Matrizen, jede 2×3\n",
        "B = torch.randn(5, 3, 4)  # 5 Matrizen, jede 3×4\n",
        "\n",
        "C = torch.bmm(A, B)       # Ergebnis: 5 Matrizen à 2×4\n",
        "print(C.shape)            # → torch.Size([5, 2, 4])\n"
      ],
      "metadata": {
        "colab": {
          "base_uri": "https://localhost:8080/"
        },
        "id": "PNmrrGWpdcoC",
        "outputId": "476a9acd-e6d0-4983-c268-5cbb71cd873c"
      },
      "execution_count": 16,
      "outputs": [
        {
          "output_type": "stream",
          "name": "stdout",
          "text": [
            "torch.Size([5, 2, 4])\n"
          ]
        }
      ]
    },
    {
      "cell_type": "code",
      "source": [
        "import torch\n",
        "import torch.nn as nn\n",
        "import torch.nn.functional as F\n",
        "import torch.optim as optim\n",
        "from torchvision import datasets, transforms\n",
        "from torch.utils.data import DataLoader\n"
      ],
      "metadata": {
        "id": "W2fnNMAh-1QU"
      },
      "execution_count": 17,
      "outputs": []
    },
    {
      "cell_type": "code",
      "source": [
        "transform = transforms.ToTensor()\n",
        "\n",
        "mnist_train = datasets.MNIST(root=\"./data\", train=True, download=True, transform=transform)\n",
        "mnist_test  = datasets.MNIST(root=\"./data\", train=False, download=True, transform=transform)\n",
        "\n",
        "train_loader = DataLoader(mnist_train, batch_size=64, shuffle=True)\n",
        "test_loader  = DataLoader(mnist_test, batch_size=1000)\n"
      ],
      "metadata": {
        "id": "tIRcEKOyEJYs"
      },
      "execution_count": 18,
      "outputs": []
    },
    {
      "cell_type": "code",
      "source": [
        "class MNISTModell(nn.Module):\n",
        "    def __init__(self):\n",
        "        super().__init__()\n",
        "        self.fc1 = nn.Linear(28*28, 128)\n",
        "        self.fc2 = nn.Linear(128, 64)\n",
        "        self.fc3 = nn.Linear(64, 10)  # 10 Klassen\n",
        "\n",
        "    def forward(self, x):\n",
        "        x = x.view(x.shape[0], -1)     # [Batch, 1, 28, 28] → [Batch, 784]\n",
        "        x = F.relu(self.fc1(x))\n",
        "        x = F.relu(self.fc2(x))\n",
        "        x = self.fc3(x)                # Kein Softmax → enthalten in Loss\n",
        "        return x\n"
      ],
      "metadata": {
        "id": "LCE_MPJGE0GG"
      },
      "execution_count": 19,
      "outputs": []
    },
    {
      "cell_type": "code",
      "source": [
        "device = torch.device(\"cuda\" if torch.cuda.is_available() else \"cpu\")\n",
        "\n",
        "model = MNISTModell().to(device)\n",
        "optimizer = optim.Adam(model.parameters(), lr=0.001)\n",
        "criterion = nn.CrossEntropyLoss()\n"
      ],
      "metadata": {
        "id": "sx8lrvQHF8SI"
      },
      "execution_count": 20,
      "outputs": []
    },
    {
      "cell_type": "code",
      "source": [
        "for epoch in range(5):  # 5 Durchläufe\n",
        "    model.train()\n",
        "    running_loss = 0\n",
        "\n",
        "    for images, labels in train_loader:\n",
        "        images, labels = images.to(device), labels.to(device)\n",
        "\n",
        "        optimizer.zero_grad()\n",
        "        output = model(images)\n",
        "        loss = criterion(output, labels)\n",
        "        loss.backward()\n",
        "        optimizer.step()\n",
        "\n",
        "        running_loss += loss.item()\n",
        "\n",
        "    print(f\"Epoch {epoch+1}: Loss = {running_loss / len(train_loader):.4f}\")\n"
      ],
      "metadata": {
        "colab": {
          "base_uri": "https://localhost:8080/"
        },
        "id": "1GCX_781GfHP",
        "outputId": "d6117c31-7570-44b9-ac5d-343185c846f1"
      },
      "execution_count": 21,
      "outputs": [
        {
          "output_type": "stream",
          "name": "stdout",
          "text": [
            "Epoch 1: Loss = 0.3404\n",
            "Epoch 2: Loss = 0.1412\n",
            "Epoch 3: Loss = 0.0983\n",
            "Epoch 4: Loss = 0.0733\n",
            "Epoch 5: Loss = 0.0584\n"
          ]
        }
      ]
    },
    {
      "cell_type": "code",
      "source": [
        "def evaluate(model, test_loader):\n",
        "    model.eval()  # Switch to evaluation mode\n",
        "    correct = 0\n",
        "    total = 0\n",
        "\n",
        "    with torch.no_grad():  # No gradients needed during testing\n",
        "        for images, labels in test_loader:\n",
        "            images, labels = images.to(device), labels.to(device)\n",
        "            outputs = model(images)  # shape: [batch, 10]\n",
        "            predictions = torch.argmax(outputs, dim=1)  # best class per sample\n",
        "\n",
        "            correct += (predictions == labels).sum().item()\n",
        "            total += labels.size(0)\n",
        "\n",
        "    accuracy = correct / total\n",
        "    print(f\"Test Accuracy: {accuracy:.2%}\")\n"
      ],
      "metadata": {
        "id": "cQLNQlHsbVSS"
      },
      "execution_count": 22,
      "outputs": []
    },
    {
      "cell_type": "code",
      "source": [
        "evaluate(model, test_loader)\n"
      ],
      "metadata": {
        "colab": {
          "base_uri": "https://localhost:8080/"
        },
        "id": "YQ0OEkxLb7PH",
        "outputId": "84a1bce8-c9f6-4435-cab0-0d3344ed678f"
      },
      "execution_count": 23,
      "outputs": [
        {
          "output_type": "stream",
          "name": "stdout",
          "text": [
            "Test Accuracy: 97.43%\n"
          ]
        }
      ]
    },
    {
      "cell_type": "code",
      "source": [],
      "metadata": {
        "id": "aBTf8aPkchj6"
      },
      "execution_count": null,
      "outputs": []
    }
  ]
}